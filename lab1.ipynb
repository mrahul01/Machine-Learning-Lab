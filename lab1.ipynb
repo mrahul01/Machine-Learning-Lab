{
 "cells": [
  {
   "cell_type": "code",
   "execution_count": 1,
   "id": "36324dc2-8b28-4006-a8a4-5bf2643d6d74",
   "metadata": {},
   "outputs": [
    {
     "name": "stdout",
     "output_type": "stream",
     "text": [
      "0    10\n",
      "1    11\n",
      "2    12\n",
      "3    20\n",
      "4    22\n",
      "5    30\n",
      "6    40\n",
      "7    50\n",
      "dtype: int64\n"
     ]
    }
   ],
   "source": [
    "import pandas as pd\n",
    "data = [10,11,12,20,22,30,40,50]\n",
    "x = pd.Series(data)\n",
    "print(x)"
   ]
  },
  {
   "cell_type": "code",
   "execution_count": 133,
   "id": "2e5c22ea-7272-4a0d-9bcd-9fd8c7543891",
   "metadata": {},
   "outputs": [
    {
     "name": "stdout",
     "output_type": "stream",
     "text": [
      "   Name  Age       City\n",
      "0  Ajay   23  Ahmedabad\n",
      "1  Arun   33   Alahabad\n"
     ]
    }
   ],
   "source": [
    "import pandas as pd \n",
    "data ={\n",
    "    'Name' :['Ajay','Arun'],\n",
    "    'Age' :[23,33],\n",
    "    'City' :['Ahmedabad','Alahabad']\n",
    "}\n",
    "x = pd.DataFrame(data)\n",
    "print(x)"
   ]
  },
  {
   "cell_type": "code",
   "execution_count": 23,
   "id": "050a2ed2-38ed-4634-bf3d-1516a8409e91",
   "metadata": {},
   "outputs": [
    {
     "name": "stdout",
     "output_type": "stream",
     "text": [
      "   T_ID      T_date  UserID  ProductID  Qty\n",
      "0     1  2010-08-21     7.0          2    1\n",
      "1     2  2011-05-26     3.0          4    1\n",
      "2     3  2011-06-16     3.0          3    1\n",
      "3     4  2012-08-26     1.0          2    3\n",
      "4     5  2013-06-06     2.0          4    1\n",
      "5     6  2013-12-23     2.0          5    6\n",
      "6     7  2013-12-30     3.0          4    1\n",
      "7     8  2014-04-24     NaN          2    3\n",
      "8     9  2015-04-24     7.0          4    3\n",
      "9    10  2016-05-08     3.0          4    4\n"
     ]
    }
   ],
   "source": [
    "import pandas as pd\n",
    "df = pd.read_csv(\"transactions.csv\")\n",
    "df.rename(columns={\"Quantity\":\"Qty\",\"TransactionID\":\"T_ID\",\"TransactionDate\":\"T_date\"},inplace=True)\n",
    "print(df)           "
   ]
  },
  {
   "cell_type": "code",
   "execution_count": 54,
   "id": "753c5e5b-e26c-4114-a501-fc26355f0b64",
   "metadata": {},
   "outputs": [],
   "source": [
    "import pandas as pd\n",
    "df = pd.read_csv(\"transactions.csv\")"
   ]
  },
  {
   "cell_type": "code",
   "execution_count": 31,
   "id": "553245db-aef9-469f-a9a0-401486b54ae2",
   "metadata": {},
   "outputs": [
    {
     "name": "stdout",
     "output_type": "stream",
     "text": [
      "TransactionID      0\n",
      "TransactionDate    0\n",
      "UserID             1\n",
      "ProductID          0\n",
      "Quantity           0\n",
      "dtype: int64\n"
     ]
    }
   ],
   "source": [
    "print(df.isnull().sum())"
   ]
  },
  {
   "cell_type": "code",
   "execution_count": 32,
   "id": "9956e285-16ed-4b4c-920e-e448e4cf59b5",
   "metadata": {},
   "outputs": [
    {
     "name": "stdout",
     "output_type": "stream",
     "text": [
      "   TransactionID  TransactionDate  UserID  ProductID  Quantity\n",
      "0          False            False   False      False     False\n",
      "1          False            False   False      False     False\n",
      "2          False            False   False      False     False\n",
      "3          False            False   False      False     False\n",
      "4          False            False   False      False     False\n",
      "5          False            False   False      False     False\n",
      "6          False            False   False      False     False\n",
      "7          False            False    True      False     False\n",
      "8          False            False   False      False     False\n",
      "9          False            False   False      False     False\n"
     ]
    }
   ],
   "source": [
    "print(df.isnull())"
   ]
  },
  {
   "cell_type": "code",
   "execution_count": 43,
   "id": "46282f21-79e6-486d-8476-ad4ba44e3a9b",
   "metadata": {},
   "outputs": [
    {
     "name": "stdout",
     "output_type": "stream",
     "text": [
      "   TransactionID TransactionDate  UserID  ProductID  Quantity\n",
      "0              1      2010-08-21     7.0          2         1\n",
      "1              2      2011-05-26     3.0          4         1\n",
      "2              3      2011-06-16     3.0          3         1\n",
      "4              5      2013-06-06     2.0          4         1\n",
      "6              7      2013-12-30     3.0          4         1\n",
      "3              4      2012-08-26     1.0          2         3\n",
      "7              8      2014-04-24     NaN          2         3\n",
      "8              9      2015-04-24     7.0          4         3\n",
      "9             10      2016-05-08     3.0          4         4\n",
      "5              6      2013-12-23     2.0          5         6\n"
     ]
    }
   ],
   "source": [
    "sorted= df.sort_values(by=[\"Quantity\"],ascending=[True])\n",
    "print(sorted)"
   ]
  },
  {
   "cell_type": "code",
   "execution_count": 46,
   "id": "efd45e57-f111-44de-9dd7-3c5d1307aa90",
   "metadata": {},
   "outputs": [
    {
     "name": "stdout",
     "output_type": "stream",
     "text": [
      "   TransactionID TransactionDate  UserID  ProductID  Quantity\n",
      "5              6      2013-12-23     2.0          5         6\n",
      "9             10      2016-05-08     3.0          4         4\n",
      "3              4      2012-08-26     1.0          2         3\n",
      "7              8      2014-04-24     NaN          2         3\n",
      "8              9      2015-04-24     7.0          4         3\n",
      "0              1      2010-08-21     7.0          2         1\n",
      "1              2      2011-05-26     3.0          4         1\n",
      "2              3      2011-06-16     3.0          3         1\n",
      "4              5      2013-06-06     2.0          4         1\n",
      "6              7      2013-12-30     3.0          4         1\n"
     ]
    }
   ],
   "source": [
    "sorted= df.sort_values(by=[\"Quantity\",\"TransactionID\"],ascending=[False,True])\n",
    "print(sorted)"
   ]
  },
  {
   "cell_type": "code",
   "execution_count": 47,
   "id": "da661807-ae7a-4d6a-a6c5-645f5cd5f5bf",
   "metadata": {},
   "outputs": [
    {
     "name": "stdout",
     "output_type": "stream",
     "text": [
      "   TransactionID TransactionDate  UserID  ProductID  Quantity\n",
      "5              6      2013-12-23     2.0          5         6\n",
      "9             10      2016-05-08     3.0          4         4\n"
     ]
    }
   ],
   "source": [
    "print(sorted.head(2))"
   ]
  },
  {
   "cell_type": "code",
   "execution_count": 48,
   "id": "225abde7-e5cf-4a75-ada0-ef7ce7d0f57d",
   "metadata": {},
   "outputs": [
    {
     "name": "stdout",
     "output_type": "stream",
     "text": [
      "   TransactionID TransactionDate  UserID  ProductID  Quantity\n",
      "3              4      2012-08-26     1.0          2         3\n",
      "5              6      2013-12-23     2.0          5         6\n",
      "7              8      2014-04-24     NaN          2         3\n",
      "8              9      2015-04-24     7.0          4         3\n",
      "9             10      2016-05-08     3.0          4         4\n"
     ]
    }
   ],
   "source": [
    "sub = df[df['Quantity']>1]\n",
    "print(sub)"
   ]
  },
  {
   "cell_type": "code",
   "execution_count": 66,
   "id": "40c172b9-799d-49e3-9077-55051a10be6c",
   "metadata": {},
   "outputs": [
    {
     "name": "stdout",
     "output_type": "stream",
     "text": [
      "2013-12-30\n"
     ]
    }
   ],
   "source": [
    "# subset_rows = df.iloc[[6,1]]\n",
    "subset_rows = df.iloc[6,1]\n",
    "print(subset_rows)"
   ]
  },
  {
   "cell_type": "code",
   "execution_count": 61,
   "id": "845720cf-cdd2-4c08-9e30-acfffb1eb1be",
   "metadata": {},
   "outputs": [
    {
     "name": "stdout",
     "output_type": "stream",
     "text": [
      "   TransactionID TransactionDate  UserID  ProductID  Quantity\n",
      "0              1      2010-08-21     7.0          2         1\n",
      "1              2      2011-05-26     3.0          4         1\n",
      "3              4      2012-08-26     1.0          2         3\n",
      "8              9      2015-04-24     7.0          4         3\n"
     ]
    }
   ],
   "source": [
    "foo = [True,True,False,True,False,False,False,False,True,False]\n",
    "subset_foo_true=df[foo]\n",
    "print(subset_foo_true)"
   ]
  },
  {
   "cell_type": "code",
   "execution_count": 64,
   "id": "f9a81f4d-0040-442d-9fc1-301de61f09eb",
   "metadata": {},
   "outputs": [
    {
     "name": "stdout",
     "output_type": "stream",
     "text": [
      "   TransactionID  Quantity\n",
      "3              4         3\n",
      "5              6         6\n",
      "7              8         3\n",
      "8              9         3\n",
      "9             10         4\n"
     ]
    }
   ],
   "source": [
    "subset=df[df[\"Quantity\"]>1][[\"TransactionID\",\"Quantity\"]]\n",
    "print(subset)"
   ]
  },
  {
   "cell_type": "code",
   "execution_count": 2,
   "id": "c57b63a7-5326-48b0-a587-21f5360c720a",
   "metadata": {},
   "outputs": [],
   "source": [
    "import numpy as np\n",
    "import pandas as pd"
   ]
  },
  {
   "cell_type": "code",
   "execution_count": 3,
   "id": "191a370d-7123-4c12-9a4e-59bf7038150b",
   "metadata": {},
   "outputs": [],
   "source": [
    "df = pd.read_csv(\"transactions.csv\")"
   ]
  },
  {
   "cell_type": "code",
   "execution_count": 4,
   "id": "26100f6f-3c28-482b-8699-ce1b4f555144",
   "metadata": {},
   "outputs": [
    {
     "data": {
      "text/html": [
       "<div>\n",
       "<style scoped>\n",
       "    .dataframe tbody tr th:only-of-type {\n",
       "        vertical-align: middle;\n",
       "    }\n",
       "\n",
       "    .dataframe tbody tr th {\n",
       "        vertical-align: top;\n",
       "    }\n",
       "\n",
       "    .dataframe thead th {\n",
       "        text-align: right;\n",
       "    }\n",
       "</style>\n",
       "<table border=\"1\" class=\"dataframe\">\n",
       "  <thead>\n",
       "    <tr style=\"text-align: right;\">\n",
       "      <th></th>\n",
       "      <th>TransactionID</th>\n",
       "      <th>TransactionDate</th>\n",
       "      <th>UserID</th>\n",
       "      <th>ProductID</th>\n",
       "      <th>Quantity</th>\n",
       "    </tr>\n",
       "  </thead>\n",
       "  <tbody>\n",
       "    <tr>\n",
       "      <th>0</th>\n",
       "      <td>1</td>\n",
       "      <td>2010-08-21</td>\n",
       "      <td>7.0</td>\n",
       "      <td>2</td>\n",
       "      <td>1</td>\n",
       "    </tr>\n",
       "    <tr>\n",
       "      <th>1</th>\n",
       "      <td>2</td>\n",
       "      <td>2011-05-26</td>\n",
       "      <td>3.0</td>\n",
       "      <td>4</td>\n",
       "      <td>1</td>\n",
       "    </tr>\n",
       "    <tr>\n",
       "      <th>2</th>\n",
       "      <td>3</td>\n",
       "      <td>2011-06-16</td>\n",
       "      <td>3.0</td>\n",
       "      <td>3</td>\n",
       "      <td>1</td>\n",
       "    </tr>\n",
       "    <tr>\n",
       "      <th>3</th>\n",
       "      <td>4</td>\n",
       "      <td>2012-08-26</td>\n",
       "      <td>1.0</td>\n",
       "      <td>2</td>\n",
       "      <td>3</td>\n",
       "    </tr>\n",
       "    <tr>\n",
       "      <th>4</th>\n",
       "      <td>5</td>\n",
       "      <td>2013-06-06</td>\n",
       "      <td>2.0</td>\n",
       "      <td>4</td>\n",
       "      <td>1</td>\n",
       "    </tr>\n",
       "    <tr>\n",
       "      <th>5</th>\n",
       "      <td>6</td>\n",
       "      <td>2013-12-23</td>\n",
       "      <td>2.0</td>\n",
       "      <td>5</td>\n",
       "      <td>6</td>\n",
       "    </tr>\n",
       "    <tr>\n",
       "      <th>6</th>\n",
       "      <td>7</td>\n",
       "      <td>2013-12-30</td>\n",
       "      <td>3.0</td>\n",
       "      <td>4</td>\n",
       "      <td>1</td>\n",
       "    </tr>\n",
       "    <tr>\n",
       "      <th>7</th>\n",
       "      <td>8</td>\n",
       "      <td>2014-04-24</td>\n",
       "      <td>NaN</td>\n",
       "      <td>2</td>\n",
       "      <td>3</td>\n",
       "    </tr>\n",
       "    <tr>\n",
       "      <th>8</th>\n",
       "      <td>9</td>\n",
       "      <td>2015-04-24</td>\n",
       "      <td>7.0</td>\n",
       "      <td>4</td>\n",
       "      <td>3</td>\n",
       "    </tr>\n",
       "    <tr>\n",
       "      <th>9</th>\n",
       "      <td>10</td>\n",
       "      <td>2016-05-08</td>\n",
       "      <td>3.0</td>\n",
       "      <td>4</td>\n",
       "      <td>4</td>\n",
       "    </tr>\n",
       "  </tbody>\n",
       "</table>\n",
       "</div>"
      ],
      "text/plain": [
       "   TransactionID TransactionDate  UserID  ProductID  Quantity\n",
       "0              1      2010-08-21     7.0          2         1\n",
       "1              2      2011-05-26     3.0          4         1\n",
       "2              3      2011-06-16     3.0          3         1\n",
       "3              4      2012-08-26     1.0          2         3\n",
       "4              5      2013-06-06     2.0          4         1\n",
       "5              6      2013-12-23     2.0          5         6\n",
       "6              7      2013-12-30     3.0          4         1\n",
       "7              8      2014-04-24     NaN          2         3\n",
       "8              9      2015-04-24     7.0          4         3\n",
       "9             10      2016-05-08     3.0          4         4"
      ]
     },
     "execution_count": 4,
     "metadata": {},
     "output_type": "execute_result"
    }
   ],
   "source": [
    "df"
   ]
  },
  {
   "cell_type": "markdown",
   "id": "04e51ed3-50a2-48c7-be42-d5cfa4dcce4e",
   "metadata": {},
   "source": [
    "# 1. Print Summary of transaction data set"
   ]
  },
  {
   "cell_type": "code",
   "execution_count": 73,
   "id": "d05a4e73-8fa3-4dbe-a636-30dd3cdf8c9d",
   "metadata": {},
   "outputs": [
    {
     "name": "stdout",
     "output_type": "stream",
     "text": [
      "       TransactionID    UserID  ProductID   Quantity\n",
      "count       10.00000  9.000000  10.000000  10.000000\n",
      "mean         5.50000  3.444444   3.400000   2.400000\n",
      "std          3.02765  2.127858   1.074968   1.712698\n",
      "min          1.00000  1.000000   2.000000   1.000000\n",
      "25%          3.25000  2.000000   2.250000   1.000000\n",
      "50%          5.50000  3.000000   4.000000   2.000000\n",
      "75%          7.75000  3.000000   4.000000   3.000000\n",
      "max         10.00000  7.000000   5.000000   6.000000\n"
     ]
    }
   ],
   "source": [
    "print(df.describe())"
   ]
  },
  {
   "cell_type": "markdown",
   "id": "0f71c5dd-60b4-4d7c-8c45-45eb9bfbc522",
   "metadata": {},
   "source": [
    "# 2. Print Numbers of Attributes"
   ]
  },
  {
   "cell_type": "code",
   "execution_count": 76,
   "id": "7716ac5a-6459-46ae-8359-dc584f27705a",
   "metadata": {},
   "outputs": [
    {
     "name": "stdout",
     "output_type": "stream",
     "text": [
      "5\n"
     ]
    }
   ],
   "source": [
    "print(df.shape[1])"
   ]
  },
  {
   "cell_type": "markdown",
   "id": "0adac472-baad-46ff-8358-8555c87df7c7",
   "metadata": {},
   "source": [
    "# 3. Print Numbers of Records"
   ]
  },
  {
   "cell_type": "code",
   "execution_count": 78,
   "id": "c78fb73a-bbb5-4772-b55b-d77fcbbe03ca",
   "metadata": {},
   "outputs": [
    {
     "name": "stdout",
     "output_type": "stream",
     "text": [
      "10\n"
     ]
    }
   ],
   "source": [
    "print(df.shape[0])"
   ]
  },
  {
   "cell_type": "markdown",
   "id": "20271f78-e7b6-471f-b6d1-586215d1093e",
   "metadata": {},
   "source": [
    "# 4. Get the row names"
   ]
  },
  {
   "cell_type": "code",
   "execution_count": 80,
   "id": "a47d18fa-e1c5-4a43-a3a7-caa3ff09f4c4",
   "metadata": {},
   "outputs": [
    {
     "name": "stdout",
     "output_type": "stream",
     "text": [
      "RangeIndex(start=0, stop=10, step=1)\n"
     ]
    }
   ],
   "source": [
    "rows = df.index\n",
    "print(rows)"
   ]
  },
  {
   "cell_type": "markdown",
   "id": "e281d49e-469f-476e-a4ce-3f2ded0f1d0b",
   "metadata": {},
   "source": [
    "# 5. Get the column names"
   ]
  },
  {
   "cell_type": "code",
   "execution_count": 81,
   "id": "ae6d1e63-f225-4102-b96f-cb25493019a9",
   "metadata": {},
   "outputs": [
    {
     "name": "stdout",
     "output_type": "stream",
     "text": [
      "Index(['TransactionID', 'TransactionDate', 'UserID', 'ProductID', 'Quantity'], dtype='object')\n"
     ]
    }
   ],
   "source": [
    "columns = df.columns\n",
    "print(columns)"
   ]
  },
  {
   "cell_type": "markdown",
   "id": "fe8eaa96-a7c6-480a-891e-b26010ed4da4",
   "metadata": {},
   "source": [
    "# 6. View top 10 Records"
   ]
  },
  {
   "cell_type": "code",
   "execution_count": 83,
   "id": "583edadb-5ea7-40a1-af59-f7f69a36b38e",
   "metadata": {},
   "outputs": [
    {
     "name": "stdout",
     "output_type": "stream",
     "text": [
      "   TransactionID TransactionDate  UserID  ProductID  Quantity\n",
      "0              1      2010-08-21     7.0          2         1\n",
      "1              2      2011-05-26     3.0          4         1\n",
      "2              3      2011-06-16     3.0          3         1\n",
      "3              4      2012-08-26     1.0          2         3\n",
      "4              5      2013-06-06     2.0          4         1\n"
     ]
    }
   ],
   "source": [
    "print(df.head(5))"
   ]
  },
  {
   "cell_type": "markdown",
   "id": "687c603c-148b-48f4-b393-6f2cafcdac96",
   "metadata": {},
   "source": [
    "# 7.Change the name of column “ Quantity” to “Quant”"
   ]
  },
  {
   "cell_type": "code",
   "execution_count": 96,
   "id": "687608b1-1c58-4585-af3e-930e939892fe",
   "metadata": {},
   "outputs": [
    {
     "name": "stdout",
     "output_type": "stream",
     "text": [
      "Index(['TransactionID', 'TransactionDate', 'UserID', 'ProductID', 'Quant'], dtype='object')\n"
     ]
    }
   ],
   "source": [
    "df.rename(columns={\"Quantity\":\"Quant\"},inplace=True)\n",
    "print(df.columns)"
   ]
  },
  {
   "cell_type": "markdown",
   "id": "534b44fa-1aff-48e7-aa24-6e27c793d97e",
   "metadata": {},
   "source": [
    "# 8.Change the name of columns ProductID and UserID to PID and UID respectively"
   ]
  },
  {
   "cell_type": "code",
   "execution_count": 103,
   "id": "370bb351-a532-4824-899a-9c9039ad2cb6",
   "metadata": {},
   "outputs": [
    {
     "name": "stdout",
     "output_type": "stream",
     "text": [
      "Index(['TransactionID', 'TransactionDate', 'UID', 'PID', 'Quantity'], dtype='object')\n"
     ]
    }
   ],
   "source": [
    "df.rename(columns={\"ProductID\":\"PID\",\"UserID\":\"UID\"},inplace=True)\n",
    "print(df.columns)"
   ]
  },
  {
   "cell_type": "code",
   "execution_count": 104,
   "id": "8666f9c8-9a8b-4060-bff9-67a648234ecb",
   "metadata": {},
   "outputs": [
    {
     "name": "stdout",
     "output_type": "stream",
     "text": [
      "   TransactionID TransactionDate  UID  PID  Quantity\n",
      "0              1      2010-08-21  7.0    2         1\n",
      "1              2      2011-05-26  3.0    4         1\n",
      "2              3      2011-06-16  3.0    3         1\n",
      "3              4      2012-08-26  1.0    2         3\n",
      "4              5      2013-06-06  2.0    4         1\n",
      "5              6      2013-12-23  2.0    5         6\n",
      "6              7      2013-12-30  3.0    4         1\n",
      "7              8      2014-04-24  NaN    2         3\n",
      "8              9      2015-04-24  7.0    4         3\n",
      "9             10      2016-05-08  3.0    4         4\n"
     ]
    }
   ],
   "source": [
    "print(df)"
   ]
  },
  {
   "cell_type": "markdown",
   "id": "a0047c43-2f73-46b0-b1c6-e34890ceaae1",
   "metadata": {},
   "source": [
    "# 9. Order the rows of transactions by TransactionId descending, if ascending then ascending=True"
   ]
  },
  {
   "cell_type": "code",
   "execution_count": 117,
   "id": "e0201222-8dbd-48a9-955c-191503f9de69",
   "metadata": {},
   "outputs": [
    {
     "name": "stdout",
     "output_type": "stream",
     "text": [
      "   TransactionID TransactionDate  UID  PID  Quantity\n",
      "0              1      2010-08-21  7.0    2         1\n",
      "1              2      2011-05-26  3.0    4         1\n",
      "2              3      2011-06-16  3.0    3         1\n",
      "3              4      2012-08-26  1.0    2         3\n",
      "4              5      2013-06-06  2.0    4         1\n",
      "5              6      2013-12-23  2.0    5         6\n",
      "6              7      2013-12-30  3.0    4         1\n",
      "7              8      2014-04-24  NaN    2         3\n",
      "8              9      2015-04-24  7.0    4         3\n",
      "9             10      2016-05-08  3.0    4         4\n",
      "\n",
      "\n",
      "   TransactionID TransactionDate  UID  PID  Quantity\n",
      "9             10      2016-05-08  3.0    4         4\n",
      "8              9      2015-04-24  7.0    4         3\n",
      "7              8      2014-04-24  NaN    2         3\n",
      "6              7      2013-12-30  3.0    4         1\n",
      "5              6      2013-12-23  2.0    5         6\n",
      "4              5      2013-06-06  2.0    4         1\n",
      "3              4      2012-08-26  1.0    2         3\n",
      "2              3      2011-06-16  3.0    3         1\n",
      "1              2      2011-05-26  3.0    4         1\n",
      "0              1      2010-08-21  7.0    2         1\n"
     ]
    }
   ],
   "source": [
    "sort=df.sort_values(by=[\"TransactionID\"],ascending=True)\n",
    "sort2=df.sort_values(by=[\"TransactionID\"],ascending=False)\n",
    "print(sort)\n",
    "print(\"\\n\")\n",
    "print(sort2)"
   ]
  },
  {
   "cell_type": "markdown",
   "id": "8de91259-2ea0-457b-8dd9-c80ee214566f",
   "metadata": {},
   "source": [
    "# 10. Order the rows of transactions by Quantity ascending, TransactionDate descending"
   ]
  },
  {
   "cell_type": "code",
   "execution_count": 139,
   "id": "1209e69c-f81b-4b1e-9e47-2308da8a90ff",
   "metadata": {},
   "outputs": [
    {
     "name": "stdout",
     "output_type": "stream",
     "text": [
      "   TransactionID TransactionDate  UID  PID  Quantity\n",
      "0              1      2010-08-21  7.0    2         1\n",
      "1              2      2011-05-26  3.0    4         1\n",
      "2              3      2011-06-16  3.0    3         1\n",
      "4              5      2013-06-06  2.0    4         1\n",
      "6              7      2013-12-30  3.0    4         1\n",
      "3              4      2012-08-26  1.0    2         3\n",
      "7              8      2014-04-24  NaN    2         3\n",
      "8              9      2015-04-24  7.0    4         3\n",
      "9             10      2016-05-08  3.0    4         4\n",
      "5              6      2013-12-23  2.0    5         6\n"
     ]
    }
   ],
   "source": [
    "sort3=df.sort_values(by=[\"Quantity\"],ascending=True)\n",
    "sort4=df.sort_values(by=[\"TransactionDate\"],ascending=False)\n",
    "# print(sort3)\n",
    "# print(\"\\n\")\n",
    "# print(sort4)\n",
    "\n",
    "sort5 = df.sort_values(by=[\"Quantity\",\"TransactionDate\"],ascending=[True,True])\n",
    "print(sort5)"
   ]
  },
  {
   "cell_type": "markdown",
   "id": "3e19da05-8694-49f4-a7ed-f3e07c58e426",
   "metadata": {},
   "source": [
    "# 11. Set the column order of Transactions as ProductID, Quantity, TransactionDate, TransactionID, UserID"
   ]
  },
  {
   "cell_type": "code",
   "execution_count": 136,
   "id": "110b99c5-cd8f-44a2-8090-eaab0aebbf5c",
   "metadata": {},
   "outputs": [
    {
     "name": "stdout",
     "output_type": "stream",
     "text": [
      "   PID  Quantity TransactionDate  TransactionID  UID\n",
      "0    2         1      2010-08-21              1  7.0\n",
      "1    4         1      2011-05-26              2  3.0\n",
      "2    3         1      2011-06-16              3  3.0\n",
      "3    2         3      2012-08-26              4  1.0\n",
      "4    4         1      2013-06-06              5  2.0\n",
      "5    5         6      2013-12-23              6  2.0\n",
      "6    4         1      2013-12-30              7  3.0\n",
      "7    2         3      2014-04-24              8  NaN\n",
      "8    4         3      2015-04-24              9  7.0\n",
      "9    4         4      2016-05-08             10  3.0\n",
      "\n",
      "\n",
      "0    2\n",
      "1    4\n",
      "2    3\n",
      "3    2\n",
      "4    4\n",
      "5    5\n",
      "6    4\n",
      "7    2\n",
      "8    4\n",
      "9    4\n",
      "Name: PID, dtype: int64\n"
     ]
    }
   ],
   "source": [
    "print(df[['PID', 'Quantity', 'TransactionDate', 'TransactionID', 'UID']])\n",
    "print(\"\\n\")\n",
    "print(df['PID'])"
   ]
  },
  {
   "cell_type": "markdown",
   "id": "3189ba5a-472d-45e5-97c3-faa5cb32db6c",
   "metadata": {},
   "source": [
    "# 12. Make UserID the first column of transactions"
   ]
  },
  {
   "cell_type": "code",
   "execution_count": 141,
   "id": "ca9d0dd6-e15e-4c9a-b30d-e54484b8f0d2",
   "metadata": {},
   "outputs": [
    {
     "name": "stdout",
     "output_type": "stream",
     "text": [
      "   UID  TransactionID TransactionDate  PID  Quantity\n",
      "0  7.0              1      2010-08-21    2         1\n",
      "1  3.0              2      2011-05-26    4         1\n",
      "2  3.0              3      2011-06-16    3         1\n",
      "3  1.0              4      2012-08-26    2         3\n",
      "4  2.0              5      2013-06-06    4         1\n",
      "5  2.0              6      2013-12-23    5         6\n",
      "6  3.0              7      2013-12-30    4         1\n",
      "7  NaN              8      2014-04-24    2         3\n",
      "8  7.0              9      2015-04-24    4         3\n",
      "9  3.0             10      2016-05-08    4         4\n"
     ]
    }
   ],
   "source": [
    "transactions = df[['UID'] + [cols for cols in df.columns if cols != 'UID']]\n",
    "\n",
    "print(transactions)\n"
   ]
  },
  {
   "cell_type": "markdown",
   "id": "499b1a2e-13b6-4406-a600-888bbd1f2c6e",
   "metadata": {},
   "source": [
    "# 13. Extracting arrays from a Data Frame. Get the 2nd column"
   ]
  },
  {
   "cell_type": "code",
   "execution_count": 16,
   "id": "3b458f17-a0c5-4f40-9d73-0bf3fbece3ff",
   "metadata": {},
   "outputs": [
    {
     "data": {
      "text/html": [
       "<div>\n",
       "<style scoped>\n",
       "    .dataframe tbody tr th:only-of-type {\n",
       "        vertical-align: middle;\n",
       "    }\n",
       "\n",
       "    .dataframe tbody tr th {\n",
       "        vertical-align: top;\n",
       "    }\n",
       "\n",
       "    .dataframe thead th {\n",
       "        text-align: right;\n",
       "    }\n",
       "</style>\n",
       "<table border=\"1\" class=\"dataframe\">\n",
       "  <thead>\n",
       "    <tr style=\"text-align: right;\">\n",
       "      <th></th>\n",
       "      <th>TransactionID</th>\n",
       "      <th>TransactionDate</th>\n",
       "      <th>UserID</th>\n",
       "      <th>ProductID</th>\n",
       "      <th>Quantity</th>\n",
       "    </tr>\n",
       "  </thead>\n",
       "  <tbody>\n",
       "    <tr>\n",
       "      <th>0</th>\n",
       "      <td>1</td>\n",
       "      <td>2010-08-21</td>\n",
       "      <td>7.0</td>\n",
       "      <td>2</td>\n",
       "      <td>1</td>\n",
       "    </tr>\n",
       "    <tr>\n",
       "      <th>1</th>\n",
       "      <td>2</td>\n",
       "      <td>2011-05-26</td>\n",
       "      <td>3.0</td>\n",
       "      <td>4</td>\n",
       "      <td>1</td>\n",
       "    </tr>\n",
       "    <tr>\n",
       "      <th>2</th>\n",
       "      <td>3</td>\n",
       "      <td>2011-06-16</td>\n",
       "      <td>3.0</td>\n",
       "      <td>3</td>\n",
       "      <td>1</td>\n",
       "    </tr>\n",
       "    <tr>\n",
       "      <th>3</th>\n",
       "      <td>4</td>\n",
       "      <td>2012-08-26</td>\n",
       "      <td>1.0</td>\n",
       "      <td>2</td>\n",
       "      <td>3</td>\n",
       "    </tr>\n",
       "    <tr>\n",
       "      <th>4</th>\n",
       "      <td>5</td>\n",
       "      <td>2013-06-06</td>\n",
       "      <td>2.0</td>\n",
       "      <td>4</td>\n",
       "      <td>1</td>\n",
       "    </tr>\n",
       "    <tr>\n",
       "      <th>5</th>\n",
       "      <td>6</td>\n",
       "      <td>2013-12-23</td>\n",
       "      <td>2.0</td>\n",
       "      <td>5</td>\n",
       "      <td>6</td>\n",
       "    </tr>\n",
       "    <tr>\n",
       "      <th>6</th>\n",
       "      <td>7</td>\n",
       "      <td>2013-12-30</td>\n",
       "      <td>3.0</td>\n",
       "      <td>4</td>\n",
       "      <td>1</td>\n",
       "    </tr>\n",
       "    <tr>\n",
       "      <th>7</th>\n",
       "      <td>8</td>\n",
       "      <td>2014-04-24</td>\n",
       "      <td>NaN</td>\n",
       "      <td>2</td>\n",
       "      <td>3</td>\n",
       "    </tr>\n",
       "    <tr>\n",
       "      <th>8</th>\n",
       "      <td>9</td>\n",
       "      <td>2015-04-24</td>\n",
       "      <td>7.0</td>\n",
       "      <td>4</td>\n",
       "      <td>3</td>\n",
       "    </tr>\n",
       "    <tr>\n",
       "      <th>9</th>\n",
       "      <td>10</td>\n",
       "      <td>2016-05-08</td>\n",
       "      <td>3.0</td>\n",
       "      <td>4</td>\n",
       "      <td>4</td>\n",
       "    </tr>\n",
       "  </tbody>\n",
       "</table>\n",
       "</div>"
      ],
      "text/plain": [
       "   TransactionID TransactionDate  UserID  ProductID  Quantity\n",
       "0              1      2010-08-21     7.0          2         1\n",
       "1              2      2011-05-26     3.0          4         1\n",
       "2              3      2011-06-16     3.0          3         1\n",
       "3              4      2012-08-26     1.0          2         3\n",
       "4              5      2013-06-06     2.0          4         1\n",
       "5              6      2013-12-23     2.0          5         6\n",
       "6              7      2013-12-30     3.0          4         1\n",
       "7              8      2014-04-24     NaN          2         3\n",
       "8              9      2015-04-24     7.0          4         3\n",
       "9             10      2016-05-08     3.0          4         4"
      ]
     },
     "execution_count": 16,
     "metadata": {},
     "output_type": "execute_result"
    }
   ],
   "source": [
    "df"
   ]
  },
  {
   "cell_type": "code",
   "execution_count": 23,
   "id": "ee3d0e24-e067-48b7-8744-68e8736f3f4f",
   "metadata": {},
   "outputs": [
    {
     "name": "stdout",
     "output_type": "stream",
     "text": [
      "Second Column Array:\n",
      " ['2010-08-21' '2011-05-26' '2011-06-16' '2012-08-26' '2013-06-06'\n",
      " '2013-12-23' '2013-12-30' '2014-04-24' '2015-04-24' '2016-05-08']\n"
     ]
    }
   ],
   "source": [
    "second_column = df.iloc[:, 1].values\n",
    "print(\"Second Column Array:\\n\", second_column)"
   ]
  },
  {
   "cell_type": "markdown",
   "id": "106f5072-32c2-4f8c-8993-d70190a81b78",
   "metadata": {},
   "source": [
    "# 14. Get the ProductID array"
   ]
  },
  {
   "cell_type": "code",
   "execution_count": 21,
   "id": "ff97ad1e-141a-40ad-ae7c-2281b0183cdd",
   "metadata": {},
   "outputs": [
    {
     "name": "stdout",
     "output_type": "stream",
     "text": [
      "ProductID Array: [2 4 3 2 4 5 4 2 4 4]\n"
     ]
    }
   ],
   "source": [
    "product_id_array = df[\"ProductID\"].values\n",
    "print(\"ProductID Array:\", product_id_array)"
   ]
  },
  {
   "cell_type": "markdown",
   "id": "21a34f9a-dec8-44d3-9295-d83ec02ca93b",
   "metadata": {},
   "source": [
    "# 15. Get the ProductID array using variable"
   ]
  },
  {
   "cell_type": "code",
   "execution_count": 27,
   "id": "0194674f-4a21-4597-9b01-f0d154fb864a",
   "metadata": {},
   "outputs": [
    {
     "name": "stdout",
     "output_type": "stream",
     "text": [
      "Column Array:\n",
      " [2 4 3 2 4 5 4 2 4 4]\n"
     ]
    }
   ],
   "source": [
    "column = df.loc[:,\"ProductID\"].values\n",
    "print(\"Column Array:\\n\", column)"
   ]
  },
  {
   "cell_type": "markdown",
   "id": "ea9880ca-6d39-4b4d-b4bd-e956eae10e8e",
   "metadata": {},
   "source": [
    "# 16. Row subsetting, subset rows 1, 3, and 6"
   ]
  },
  {
   "cell_type": "code",
   "execution_count": 32,
   "id": "ac771343-4984-43f0-8036-8460bf0138c6",
   "metadata": {},
   "outputs": [
    {
     "name": "stdout",
     "output_type": "stream",
     "text": [
      "   TransactionID TransactionDate  UserID  ProductID  Quantity\n",
      "0              1      2010-08-21     7.0          2         1\n",
      "2              3      2011-06-16     3.0          3         1\n",
      "5              6      2013-12-23     2.0          5         6\n"
     ]
    }
   ],
   "source": [
    "# row = df.iloc[[1,3,6]]\n",
    "row = df.iloc[[0, 2, 5]]\n",
    "print(row)"
   ]
  },
  {
   "cell_type": "markdown",
   "id": "296f23c5-d3e1-4187-bb89-e93611f22ddc",
   "metadata": {},
   "source": [
    "# 17. Subset rows excluding 1, 3, and 6"
   ]
  },
  {
   "cell_type": "code",
   "execution_count": 33,
   "id": "2fbff18f-e7fa-4dcc-9566-fd7b8928673c",
   "metadata": {},
   "outputs": [
    {
     "name": "stdout",
     "output_type": "stream",
     "text": [
      "   TransactionID TransactionDate  UserID  ProductID  Quantity\n",
      "1              2      2011-05-26     3.0          4         1\n",
      "3              4      2012-08-26     1.0          2         3\n",
      "4              5      2013-06-06     2.0          4         1\n",
      "6              7      2013-12-30     3.0          4         1\n",
      "7              8      2014-04-24     NaN          2         3\n",
      "8              9      2015-04-24     7.0          4         3\n",
      "9             10      2016-05-08     3.0          4         4\n"
     ]
    }
   ],
   "source": [
    "exclude = df.drop(index=[0, 2, 5])\n",
    "print(exclude)"
   ]
  },
  {
   "cell_type": "markdown",
   "id": "92fdec1b-a04f-4688-bbe9-dfd4e711fdcb",
   "metadata": {},
   "source": [
    "# 18. Subset the first three rows"
   ]
  },
  {
   "cell_type": "code",
   "execution_count": 34,
   "id": "8242b909-21e3-4fcc-bd98-4389b82165a3",
   "metadata": {},
   "outputs": [
    {
     "name": "stdout",
     "output_type": "stream",
     "text": [
      "   TransactionID TransactionDate  UserID  ProductID  Quantity\n",
      "0              1      2010-08-21     7.0          2         1\n",
      "1              2      2011-05-26     3.0          4         1\n",
      "2              3      2011-06-16     3.0          3         1\n"
     ]
    }
   ],
   "source": [
    "subset_first_three = df.iloc[:3]\n",
    "print(subset_first_three)"
   ]
  },
  {
   "cell_type": "markdown",
   "id": "8e46b415-6986-403a-89a1-aa2b9b7f6453",
   "metadata": {},
   "source": [
    "# 19. Subset the last two rows"
   ]
  },
  {
   "cell_type": "code",
   "execution_count": 35,
   "id": "f9e9d8da-24a2-4763-9ae1-908fbbed3bd0",
   "metadata": {},
   "outputs": [
    {
     "name": "stdout",
     "output_type": "stream",
     "text": [
      "   TransactionID TransactionDate  UserID  ProductID  Quantity\n",
      "8              9      2015-04-24     7.0          4         3\n",
      "9             10      2016-05-08     3.0          4         4\n"
     ]
    }
   ],
   "source": [
    "subset_last_two = df.iloc[-2:]\n",
    "print(subset_last_two)"
   ]
  },
  {
   "cell_type": "markdown",
   "id": "0a62f416-973e-49b0-8e8c-f71688f5242b",
   "metadata": {},
   "source": [
    "# 20. Subset rows excluding the last two rows"
   ]
  },
  {
   "cell_type": "code",
   "execution_count": 36,
   "id": "d7b58708-4f2b-4135-9607-836bc0e24961",
   "metadata": {},
   "outputs": [
    {
     "name": "stdout",
     "output_type": "stream",
     "text": [
      "   TransactionID TransactionDate  UserID  ProductID  Quantity\n",
      "0              1      2010-08-21     7.0          2         1\n",
      "1              2      2011-05-26     3.0          4         1\n",
      "2              3      2011-06-16     3.0          3         1\n",
      "3              4      2012-08-26     1.0          2         3\n",
      "4              5      2013-06-06     2.0          4         1\n",
      "5              6      2013-12-23     2.0          5         6\n",
      "6              7      2013-12-30     3.0          4         1\n",
      "7              8      2014-04-24     NaN          2         3\n"
     ]
    }
   ],
   "source": [
    "exclude_last_two = df.iloc[:-2]\n",
    "print(exclude_last_two)"
   ]
  },
  {
   "cell_type": "markdown",
   "id": "abff9035-2948-48d3-b55b-5fc6c756e9e6",
   "metadata": {},
   "source": [
    "# 21. Subset rows excluding the first three rows"
   ]
  },
  {
   "cell_type": "code",
   "execution_count": 37,
   "id": "e7b1b56a-a0ad-4ccc-9a31-a2279b64d292",
   "metadata": {},
   "outputs": [
    {
     "name": "stdout",
     "output_type": "stream",
     "text": [
      "   TransactionID TransactionDate  UserID  ProductID  Quantity\n",
      "3              4      2012-08-26     1.0          2         3\n",
      "4              5      2013-06-06     2.0          4         1\n",
      "5              6      2013-12-23     2.0          5         6\n",
      "6              7      2013-12-30     3.0          4         1\n",
      "7              8      2014-04-24     NaN          2         3\n",
      "8              9      2015-04-24     7.0          4         3\n",
      "9             10      2016-05-08     3.0          4         4\n"
     ]
    }
   ],
   "source": [
    "exclude_first_three = df.iloc[3:]\n",
    "print(exclude_first_three)"
   ]
  },
  {
   "cell_type": "markdown",
   "id": "f6fdd80a-c159-489a-aebf-3361de7ffb81",
   "metadata": {},
   "source": [
    "# 22. Subset rows where Quantity > 1"
   ]
  },
  {
   "cell_type": "code",
   "execution_count": 39,
   "id": "7133a562-90d2-48c7-a042-7b438232ac7c",
   "metadata": {},
   "outputs": [
    {
     "name": "stdout",
     "output_type": "stream",
     "text": [
      "   TransactionID TransactionDate  UserID  ProductID  Quantity\n",
      "3              4      2012-08-26     1.0          2         3\n",
      "5              6      2013-12-23     2.0          5         6\n",
      "7              8      2014-04-24     NaN          2         3\n",
      "8              9      2015-04-24     7.0          4         3\n",
      "9             10      2016-05-08     3.0          4         4\n"
     ]
    }
   ],
   "source": [
    "subset_quantity = df[df[\"Quantity\"] > 1]\n",
    "print(subset_quantity)"
   ]
  },
  {
   "cell_type": "markdown",
   "id": "c50e37ad-2f56-4afd-9c6a-4e2f8b6cfbb3",
   "metadata": {},
   "source": [
    "# 23. Subset rows where UserID = 2"
   ]
  },
  {
   "cell_type": "code",
   "execution_count": 40,
   "id": "fdcddafa-bc28-40c6-98c2-3530b0e43b36",
   "metadata": {},
   "outputs": [
    {
     "name": "stdout",
     "output_type": "stream",
     "text": [
      "   TransactionID TransactionDate  UserID  ProductID  Quantity\n",
      "4              5      2013-06-06     2.0          4         1\n",
      "5              6      2013-12-23     2.0          5         6\n"
     ]
    }
   ],
   "source": [
    "subset_row = df[df[\"UserID\"] ==2]\n",
    "print(subset_row)"
   ]
  },
  {
   "cell_type": "markdown",
   "id": "945d5d56-95ff-4088-bd96-feb310c9413a",
   "metadata": {},
   "source": [
    "# 24. Subset rows where Quantity > 1 and UserID = 2"
   ]
  },
  {
   "cell_type": "code",
   "execution_count": 45,
   "id": "e1aceed8-f927-496c-88de-d11204bc2536",
   "metadata": {},
   "outputs": [
    {
     "name": "stdout",
     "output_type": "stream",
     "text": [
      "   TransactionID TransactionDate  UserID  ProductID  Quantity\n",
      "5              6      2013-12-23     2.0          5         6\n"
     ]
    }
   ],
   "source": [
    "result = df[(df[\"UserID\"]==2) & (df[\"Quantity\"]>1)]\n",
    "print(result)"
   ]
  },
  {
   "cell_type": "markdown",
   "id": "9ff7cb38-d8d7-4633-b844-48f7e2ed4b51",
   "metadata": {},
   "source": [
    "# 25. Subset rows where Quantity + UserID > 3"
   ]
  },
  {
   "cell_type": "code",
   "execution_count": 47,
   "id": "7631b1b6-b788-4bfc-b70e-aff6244a9369",
   "metadata": {},
   "outputs": [
    {
     "name": "stdout",
     "output_type": "stream",
     "text": [
      "   TransactionID TransactionDate  UserID  ProductID  Quantity\n",
      "0              1      2010-08-21     7.0          2         1\n",
      "1              2      2011-05-26     3.0          4         1\n",
      "2              3      2011-06-16     3.0          3         1\n",
      "3              4      2012-08-26     1.0          2         3\n",
      "5              6      2013-12-23     2.0          5         6\n",
      "6              7      2013-12-30     3.0          4         1\n",
      "8              9      2015-04-24     7.0          4         3\n",
      "9             10      2016-05-08     3.0          4         4\n"
     ]
    }
   ],
   "source": [
    "result = df[(df[\"Quantity\"] + df[\"UserID\"]) > 3]\n",
    "print(result)"
   ]
  },
  {
   "cell_type": "markdown",
   "id": "01cb9c16-f39d-4e92-8c9c-72696764f5ad",
   "metadata": {},
   "source": [
    "# 26. Subset rows where an external array, foo, is True"
   ]
  },
  {
   "cell_type": "code",
   "execution_count": 102,
   "id": "de21f85e-00be-436a-a5f7-bc107f79765b",
   "metadata": {},
   "outputs": [],
   "source": [
    "foo = np.array([True] * len(df))"
   ]
  },
  {
   "cell_type": "code",
   "execution_count": 74,
   "id": "a1161c95-7ffa-4db0-b55c-cf387eb0287b",
   "metadata": {},
   "outputs": [
    {
     "name": "stdout",
     "output_type": "stream",
     "text": [
      "   TransactionID TransactionDate  UserID  ProductID  Quantity\n",
      "0              1      2010-08-21     7.0          2         1\n",
      "1              2      2011-05-26     3.0          4         1\n",
      "2              3      2011-06-16     3.0          3         1\n",
      "3              4      2012-08-26     1.0          2         3\n",
      "4              5      2013-06-06     2.0          4         1\n",
      "5              6      2013-12-23     2.0          5         6\n",
      "6              7      2013-12-30     3.0          4         1\n",
      "7              8      2014-04-24     NaN          2         3\n",
      "8              9      2015-04-24     7.0          4         3\n",
      "9             10      2016-05-08     3.0          4         4\n"
     ]
    }
   ],
   "source": [
    "subset_foo_true = df[foo]\n",
    "print(subset_foo_true)"
   ]
  },
  {
   "cell_type": "markdown",
   "id": "735e558e-d001-420b-9eee-a9894c255b36",
   "metadata": {},
   "source": [
    "# 27. Subset rows where an external array, bar, is positive"
   ]
  },
  {
   "cell_type": "code",
   "execution_count": 103,
   "id": "ccc16717-f973-4913-9c26-10990c3fe0d7",
   "metadata": {},
   "outputs": [],
   "source": [
    "bar = np.random.randint(-10, 10, len(df))"
   ]
  },
  {
   "cell_type": "code",
   "execution_count": 76,
   "id": "4a8871c5-61ba-40dd-b84e-53ee66f73da6",
   "metadata": {},
   "outputs": [
    {
     "name": "stdout",
     "output_type": "stream",
     "text": [
      "   TransactionID TransactionDate  UserID  ProductID  Quantity\n",
      "0              1      2010-08-21     7.0          2         1\n",
      "1              2      2011-05-26     3.0          4         1\n",
      "3              4      2012-08-26     1.0          2         3\n",
      "4              5      2013-06-06     2.0          4         1\n",
      "8              9      2015-04-24     7.0          4         3\n",
      "9             10      2016-05-08     3.0          4         4\n"
     ]
    }
   ],
   "source": [
    "subset_bar_positive = df[bar > 0]\n",
    "print(subset_bar_positive)"
   ]
  },
  {
   "cell_type": "markdown",
   "id": "ec7374ec-860b-48b4-9952-7046ee3d1a80",
   "metadata": {},
   "source": [
    "# 28. Subset rows where foo is TRUE or bar is negative"
   ]
  },
  {
   "cell_type": "code",
   "execution_count": 77,
   "id": "90d416cd-9e80-4dbe-84a0-ed427c71f2bb",
   "metadata": {},
   "outputs": [
    {
     "name": "stdout",
     "output_type": "stream",
     "text": [
      "   TransactionID TransactionDate  UserID  ProductID  Quantity\n",
      "0              1      2010-08-21     7.0          2         1\n",
      "1              2      2011-05-26     3.0          4         1\n",
      "2              3      2011-06-16     3.0          3         1\n",
      "3              4      2012-08-26     1.0          2         3\n",
      "4              5      2013-06-06     2.0          4         1\n",
      "5              6      2013-12-23     2.0          5         6\n",
      "6              7      2013-12-30     3.0          4         1\n",
      "7              8      2014-04-24     NaN          2         3\n",
      "8              9      2015-04-24     7.0          4         3\n",
      "9             10      2016-05-08     3.0          4         4\n"
     ]
    }
   ],
   "source": [
    "# foo =[True,True,True,False,False,False,False,True,True,False]\n",
    "subset_foo_bar = df[foo | (bar < 0)]\n",
    "print(subset_foo_bar)"
   ]
  },
  {
   "cell_type": "markdown",
   "id": "cdf80803-abf9-4cf6-bf0e-fd4491504611",
   "metadata": {},
   "source": [
    "# 29. Subset rows where foo is not TRUE and bar is not negative"
   ]
  },
  {
   "cell_type": "code",
   "execution_count": 105,
   "id": "0fe4ee27-7af8-4b03-a263-cd33bda72d10",
   "metadata": {},
   "outputs": [
    {
     "name": "stdout",
     "output_type": "stream",
     "text": [
      "   TransactionID TransactionDate  UserID  ProductID  Quantity\n",
      "0              1      2010-08-21     7.0          2         1\n",
      "1              2      2011-05-26     3.0          4         1\n",
      "3              4      2012-08-26     1.0          2         3\n",
      "6              7      2013-12-30     3.0          4         1\n"
     ]
    }
   ],
   "source": [
    "subset_not_foo_not_bar = df[~foo & ~(bar < 0)]\n",
    "print(subset_not_foo_not_bar)"
   ]
  },
  {
   "cell_type": "markdown",
   "id": "ce5ff045-85d8-432d-a71b-0fbeb8dc4c34",
   "metadata": {},
   "source": [
    "# 30. Subset by columns 1 and 3"
   ]
  },
  {
   "cell_type": "code",
   "execution_count": 113,
   "id": "b06d3a17-c8fd-4335-b3e1-12087c22f54b",
   "metadata": {},
   "outputs": [
    {
     "name": "stdout",
     "output_type": "stream",
     "text": [
      "   TransactionID  UserID\n",
      "0              1     7.0\n",
      "1              2     3.0\n",
      "2              3     3.0\n",
      "3              4     1.0\n",
      "4              5     2.0\n",
      "5              6     2.0\n",
      "6              7     3.0\n",
      "7              8     NaN\n",
      "8              9     7.0\n",
      "9             10     3.0\n"
     ]
    }
   ],
   "source": [
    "# subset_columns = df.loc[:, [\"TransactionID\",\"TransactionDate\",\"UserID\"]]\n",
    "subset_columns = df.iloc[:, [0,2]]\n",
    "print(subset_columns)"
   ]
  },
  {
   "cell_type": "markdown",
   "id": "98782c68-ad2f-43fb-8df8-a102ca186336",
   "metadata": {},
   "source": [
    "# 31. Subset by columns TransactionID and TransactionDate"
   ]
  },
  {
   "cell_type": "code",
   "execution_count": 116,
   "id": "cde54df6-925b-47e6-a89c-49bfb6e94361",
   "metadata": {},
   "outputs": [
    {
     "name": "stdout",
     "output_type": "stream",
     "text": [
      "   TransactionID TransactionDate\n",
      "0              1      2010-08-21\n",
      "1              2      2011-05-26\n",
      "2              3      2011-06-16\n",
      "3              4      2012-08-26\n",
      "4              5      2013-06-06\n",
      "5              6      2013-12-23\n",
      "6              7      2013-12-30\n",
      "7              8      2014-04-24\n",
      "8              9      2015-04-24\n",
      "9             10      2016-05-08\n"
     ]
    }
   ],
   "source": [
    "subset_tid_tdate = df[[\"TransactionID\", \"TransactionDate\"]]\n",
    "print(subset_tid_tdate)"
   ]
  },
  {
   "cell_type": "markdown",
   "id": "4b2dbebf-d83e-4e84-ba59-b80835bbefa5",
   "metadata": {},
   "source": [
    "# 32. Subset by columns TransactionID and TransactionDate with logical operator"
   ]
  },
  {
   "cell_type": "code",
   "execution_count": 117,
   "id": "434624b7-3370-4181-ace7-566911666cbb",
   "metadata": {},
   "outputs": [
    {
     "name": "stdout",
     "output_type": "stream",
     "text": [
      "   TransactionID TransactionDate\n",
      "0              1      2010-08-21\n",
      "1              2      2011-05-26\n",
      "2              3      2011-06-16\n",
      "3              4      2012-08-26\n",
      "4              5      2013-06-06\n",
      "5              6      2013-12-23\n",
      "6              7      2013-12-30\n",
      "7              8      2014-04-24\n",
      "8              9      2015-04-24\n",
      "9             10      2016-05-08\n"
     ]
    }
   ],
   "source": [
    "subset_columns = df.loc[:, [\"TransactionID\",\"TransactionDate\"]]\n",
    "print(subset_columns)"
   ]
  },
  {
   "cell_type": "markdown",
   "id": "9e91114d-78cb-4c74-b89e-8e15f0dc0680",
   "metadata": {},
   "source": [
    "# 33. Subset columns by a variable list of column names"
   ]
  },
  {
   "cell_type": "code",
   "execution_count": 120,
   "id": "bff6e778-9f0b-402a-b2f8-2e403bccf9d3",
   "metadata": {},
   "outputs": [
    {
     "name": "stdout",
     "output_type": "stream",
     "text": [
      "   UserID  Quantity\n",
      "0     7.0         1\n",
      "1     3.0         1\n",
      "2     3.0         1\n",
      "3     1.0         3\n",
      "4     2.0         1\n",
      "5     2.0         6\n",
      "6     3.0         1\n",
      "7     NaN         3\n",
      "8     7.0         3\n",
      "9     3.0         4\n"
     ]
    }
   ],
   "source": [
    "columns_list = [\"UserID\", \"Quantity\"]\n",
    "subset_by_var_columns = df[columns_list]\n",
    "print(subset_by_var_columns)"
   ]
  },
  {
   "cell_type": "markdown",
   "id": "7495138f-f155-468d-aad8-d690bad9e495",
   "metadata": {},
   "source": [
    "# 34. Subset columns excluding a variable list of column names"
   ]
  },
  {
   "cell_type": "code",
   "execution_count": 124,
   "id": "15c2ef01-f167-46a2-b3ef-101592e95440",
   "metadata": {},
   "outputs": [
    {
     "name": "stdout",
     "output_type": "stream",
     "text": [
      "   TransactionID TransactionDate  ProductID\n",
      "0              1      2010-08-21          2\n",
      "1              2      2011-05-26          4\n",
      "2              3      2011-06-16          3\n",
      "3              4      2012-08-26          2\n",
      "4              5      2013-06-06          4\n",
      "5              6      2013-12-23          5\n",
      "6              7      2013-12-30          4\n",
      "7              8      2014-04-24          2\n",
      "8              9      2015-04-24          4\n",
      "9             10      2016-05-08          4\n"
     ]
    }
   ],
   "source": [
    "excluded_columns = [\"UserID\", \"Quantity\"]\n",
    "subset_exclude_columns = df[[col for col in df.columns if col not in excluded_columns ]]\n",
    "print(subset_exclude_columns)"
   ]
  },
  {
   "cell_type": "markdown",
   "id": "5854c258-dda2-4d08-ad69-58afd0c42999",
   "metadata": {},
   "source": [
    "# 35. Inserting and updating values\n",
    "# Example: Update first row's Quantity to 10"
   ]
  },
  {
   "cell_type": "code",
   "execution_count": 128,
   "id": "f8ec93e1-7dc6-49b8-8ade-170c5f9a29de",
   "metadata": {},
   "outputs": [
    {
     "name": "stdout",
     "output_type": "stream",
     "text": [
      "   TransactionID TransactionDate  UserID  ProductID  Quantity\n",
      "0              1      2010-08-21     7.0          2        10\n",
      "1              2      2011-05-26     3.0          4         1\n",
      "2              3      2011-06-16     3.0          3         1\n",
      "3              4      2012-08-26     1.0          2         3\n",
      "4              5      2013-06-06     2.0          4         1\n",
      "5              6      2013-12-23     2.0          5         6\n",
      "6              7      2013-12-30     3.0          4         1\n",
      "7              8      2014-04-24     NaN          2        10\n",
      "8              9      2015-04-24     7.0          4         3\n",
      "9             10      2016-05-08     3.0          4         4\n"
     ]
    }
   ],
   "source": [
    "result = df.at[7, \"Quantity\"] = 10\n",
    "print(df)"
   ]
  },
  {
   "cell_type": "markdown",
   "id": "af885a78-a762-46a0-bd27-1dc4218fe28b",
   "metadata": {},
   "source": [
    "# 36. Convert the TransactionDate column to type Date"
   ]
  },
  {
   "cell_type": "code",
   "execution_count": 129,
   "id": "dbb60238-06f4-4bd3-85c1-90b13080f276",
   "metadata": {},
   "outputs": [
    {
     "name": "stdout",
     "output_type": "stream",
     "text": [
      "   TransactionID TransactionDate  UserID  ProductID  Quantity\n",
      "0              1      2010-08-21     7.0          2        10\n",
      "1              2      2011-05-26     3.0          4         1\n",
      "2              3      2011-06-16     3.0          3         1\n",
      "3              4      2012-08-26     1.0          2         3\n",
      "4              5      2013-06-06     2.0          4         1\n",
      "5              6      2013-12-23     2.0          5         6\n",
      "6              7      2013-12-30     3.0          4         1\n",
      "7              8      2014-04-24     NaN          2        10\n",
      "8              9      2015-04-24     7.0          4         3\n",
      "9             10      2016-05-08     3.0          4         4\n"
     ]
    }
   ],
   "source": [
    "df[\"TransactionDate\"] = pd.to_datetime(df[\"TransactionDate\"])\n",
    "print(df)"
   ]
  },
  {
   "cell_type": "markdown",
   "id": "6c9fe893-2223-4a0c-afa9-e6645bc311de",
   "metadata": {},
   "source": [
    "# 37. Insert a new column, Foo = UserID + ProductID"
   ]
  },
  {
   "cell_type": "code",
   "execution_count": 132,
   "id": "74d12e98-30fb-4207-a940-c660e0267b0e",
   "metadata": {},
   "outputs": [
    {
     "data": {
      "text/html": [
       "<div>\n",
       "<style scoped>\n",
       "    .dataframe tbody tr th:only-of-type {\n",
       "        vertical-align: middle;\n",
       "    }\n",
       "\n",
       "    .dataframe tbody tr th {\n",
       "        vertical-align: top;\n",
       "    }\n",
       "\n",
       "    .dataframe thead th {\n",
       "        text-align: right;\n",
       "    }\n",
       "</style>\n",
       "<table border=\"1\" class=\"dataframe\">\n",
       "  <thead>\n",
       "    <tr style=\"text-align: right;\">\n",
       "      <th></th>\n",
       "      <th>TransactionID</th>\n",
       "      <th>TransactionDate</th>\n",
       "      <th>UserID</th>\n",
       "      <th>ProductID</th>\n",
       "      <th>Quantity</th>\n",
       "      <th>Foo</th>\n",
       "    </tr>\n",
       "  </thead>\n",
       "  <tbody>\n",
       "    <tr>\n",
       "      <th>0</th>\n",
       "      <td>1</td>\n",
       "      <td>2010-08-21</td>\n",
       "      <td>7.0</td>\n",
       "      <td>2</td>\n",
       "      <td>10</td>\n",
       "      <td>9.0</td>\n",
       "    </tr>\n",
       "    <tr>\n",
       "      <th>1</th>\n",
       "      <td>2</td>\n",
       "      <td>2011-05-26</td>\n",
       "      <td>3.0</td>\n",
       "      <td>4</td>\n",
       "      <td>1</td>\n",
       "      <td>7.0</td>\n",
       "    </tr>\n",
       "    <tr>\n",
       "      <th>2</th>\n",
       "      <td>3</td>\n",
       "      <td>2011-06-16</td>\n",
       "      <td>3.0</td>\n",
       "      <td>3</td>\n",
       "      <td>1</td>\n",
       "      <td>6.0</td>\n",
       "    </tr>\n",
       "    <tr>\n",
       "      <th>3</th>\n",
       "      <td>4</td>\n",
       "      <td>2012-08-26</td>\n",
       "      <td>1.0</td>\n",
       "      <td>2</td>\n",
       "      <td>3</td>\n",
       "      <td>3.0</td>\n",
       "    </tr>\n",
       "    <tr>\n",
       "      <th>4</th>\n",
       "      <td>5</td>\n",
       "      <td>2013-06-06</td>\n",
       "      <td>2.0</td>\n",
       "      <td>4</td>\n",
       "      <td>1</td>\n",
       "      <td>6.0</td>\n",
       "    </tr>\n",
       "    <tr>\n",
       "      <th>5</th>\n",
       "      <td>6</td>\n",
       "      <td>2013-12-23</td>\n",
       "      <td>2.0</td>\n",
       "      <td>5</td>\n",
       "      <td>6</td>\n",
       "      <td>7.0</td>\n",
       "    </tr>\n",
       "    <tr>\n",
       "      <th>6</th>\n",
       "      <td>7</td>\n",
       "      <td>2013-12-30</td>\n",
       "      <td>3.0</td>\n",
       "      <td>4</td>\n",
       "      <td>1</td>\n",
       "      <td>7.0</td>\n",
       "    </tr>\n",
       "    <tr>\n",
       "      <th>7</th>\n",
       "      <td>8</td>\n",
       "      <td>2014-04-24</td>\n",
       "      <td>NaN</td>\n",
       "      <td>2</td>\n",
       "      <td>10</td>\n",
       "      <td>NaN</td>\n",
       "    </tr>\n",
       "    <tr>\n",
       "      <th>8</th>\n",
       "      <td>9</td>\n",
       "      <td>2015-04-24</td>\n",
       "      <td>7.0</td>\n",
       "      <td>4</td>\n",
       "      <td>3</td>\n",
       "      <td>11.0</td>\n",
       "    </tr>\n",
       "    <tr>\n",
       "      <th>9</th>\n",
       "      <td>10</td>\n",
       "      <td>2016-05-08</td>\n",
       "      <td>3.0</td>\n",
       "      <td>4</td>\n",
       "      <td>4</td>\n",
       "      <td>7.0</td>\n",
       "    </tr>\n",
       "  </tbody>\n",
       "</table>\n",
       "</div>"
      ],
      "text/plain": [
       "   TransactionID TransactionDate  UserID  ProductID  Quantity   Foo\n",
       "0              1      2010-08-21     7.0          2        10   9.0\n",
       "1              2      2011-05-26     3.0          4         1   7.0\n",
       "2              3      2011-06-16     3.0          3         1   6.0\n",
       "3              4      2012-08-26     1.0          2         3   3.0\n",
       "4              5      2013-06-06     2.0          4         1   6.0\n",
       "5              6      2013-12-23     2.0          5         6   7.0\n",
       "6              7      2013-12-30     3.0          4         1   7.0\n",
       "7              8      2014-04-24     NaN          2        10   NaN\n",
       "8              9      2015-04-24     7.0          4         3  11.0\n",
       "9             10      2016-05-08     3.0          4         4   7.0"
      ]
     },
     "execution_count": 132,
     "metadata": {},
     "output_type": "execute_result"
    }
   ],
   "source": [
    "df[\"Foo\"] = df[\"UserID\"] + df[\"ProductID\"]\n",
    "df"
   ]
  },
  {
   "cell_type": "code",
   "execution_count": null,
   "id": "a47e3254-5d60-4914-952b-c00c6a2baebe",
   "metadata": {},
   "outputs": [],
   "source": []
  }
 ],
 "metadata": {
  "kernelspec": {
   "display_name": "Python 3 (ipykernel)",
   "language": "python",
   "name": "python3"
  },
  "language_info": {
   "codemirror_mode": {
    "name": "ipython",
    "version": 3
   },
   "file_extension": ".py",
   "mimetype": "text/x-python",
   "name": "python",
   "nbconvert_exporter": "python",
   "pygments_lexer": "ipython3",
   "version": "3.11.7"
  }
 },
 "nbformat": 4,
 "nbformat_minor": 5
}
